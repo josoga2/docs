{
  "nbformat": 4,
  "nbformat_minor": 0,
  "metadata": {
    "colab": {
      "name": "cifar10Crush",
      "provenance": [],
      "collapsed_sections": [],
      "include_colab_link": true
    },
    "kernelspec": {
      "name": "python3",
      "display_name": "Python 3"
    }
  },
  "cells": [
    {
      "cell_type": "markdown",
      "metadata": {
        "id": "view-in-github",
        "colab_type": "text"
      },
      "source": [
        "<a href=\"https://colab.research.google.com/github/josoga2/docs/blob/master/cifar10Crush.ipynb\" target=\"_parent\"><img src=\"https://colab.research.google.com/assets/colab-badge.svg\" alt=\"Open In Colab\"/></a>"
      ]
    },
    {
      "cell_type": "code",
      "metadata": {
        "id": "c_DPoQmf8esA",
        "colab_type": "code",
        "colab": {}
      },
      "source": [
        "import tensorflow as tf\n",
        "import matplotlib.pyplot as plt\n",
        "%matplotlib inline\n",
        "from tensorflow.keras import datasets, layers, models"
      ],
      "execution_count": 0,
      "outputs": []
    },
    {
      "cell_type": "code",
      "metadata": {
        "id": "00iLaJpC_6Bd",
        "colab_type": "code",
        "colab": {}
      },
      "source": [
        "(train_images, train_labels), (test_images, test_labels) = datasets.cifar10.load_data()"
      ],
      "execution_count": 0,
      "outputs": []
    },
    {
      "cell_type": "code",
      "metadata": {
        "id": "SV8Eyy_hAP6K",
        "colab_type": "code",
        "colab": {}
      },
      "source": [
        "train_images, test_images = train_images/255.0, test_images/255.0"
      ],
      "execution_count": 0,
      "outputs": []
    },
    {
      "cell_type": "code",
      "metadata": {
        "id": "9_xM7tFuA2cS",
        "colab_type": "code",
        "colab": {}
      },
      "source": [
        "class_names = ['airplane', 'automobile', 'bird', 'cat', 'deer',\n",
        "               'dog', 'frog', 'horse', 'ship', 'truck']"
      ],
      "execution_count": 0,
      "outputs": []
    },
    {
      "cell_type": "code",
      "metadata": {
        "id": "zulh6mUHA8Vr",
        "colab_type": "code",
        "colab": {}
      },
      "source": [
        "model = models.Sequential()\n",
        "\n",
        "model.add(layers.Conv2D(32,(3,3),activation='relu', input_shape=(32,32,3)))\n",
        "model.add(layers.MaxPooling2D((2,2)))\n",
        "model.add(layers.Conv2D(64,(3,3), activation='relu'))\n",
        "model.add(layers.MaxPooling2D((2,2)))\n",
        "model.add(layers.Conv2D(64,(3,3), activation='relu'))\n",
        "model.add(layers.Flatten())\n",
        "model.add(layers.Dense(1024, activation='relu'))\n",
        "model.add(layers.Dropout(0.5))\n",
        "model.add(layers.Dense(10,activation='softmax'))\n"
      ],
      "execution_count": 0,
      "outputs": []
    },
    {
      "cell_type": "code",
      "metadata": {
        "id": "8b5Lzs9zK93X",
        "colab_type": "code",
        "colab": {
          "base_uri": "https://localhost:8080/",
          "height": 482
        },
        "outputId": "76e4c74e-b588-40c3-8e6d-b0cbe184bd32"
      },
      "source": [
        "model.summary()"
      ],
      "execution_count": 10,
      "outputs": [
        {
          "output_type": "stream",
          "text": [
            "Model: \"sequential_1\"\n",
            "_________________________________________________________________\n",
            "Layer (type)                 Output Shape              Param #   \n",
            "=================================================================\n",
            "conv2d_3 (Conv2D)            (None, 30, 30, 32)        896       \n",
            "_________________________________________________________________\n",
            "max_pooling2d_2 (MaxPooling2 (None, 15, 15, 32)        0         \n",
            "_________________________________________________________________\n",
            "conv2d_4 (Conv2D)            (None, 13, 13, 64)        18496     \n",
            "_________________________________________________________________\n",
            "max_pooling2d_3 (MaxPooling2 (None, 6, 6, 64)          0         \n",
            "_________________________________________________________________\n",
            "conv2d_5 (Conv2D)            (None, 4, 4, 64)          36928     \n",
            "_________________________________________________________________\n",
            "flatten_1 (Flatten)          (None, 1024)              0         \n",
            "_________________________________________________________________\n",
            "dense_2 (Dense)              (None, 1024)              1049600   \n",
            "_________________________________________________________________\n",
            "dropout_1 (Dropout)          (None, 1024)              0         \n",
            "_________________________________________________________________\n",
            "dense_3 (Dense)              (None, 10)                10250     \n",
            "=================================================================\n",
            "Total params: 1,116,170\n",
            "Trainable params: 1,116,170\n",
            "Non-trainable params: 0\n",
            "_________________________________________________________________\n"
          ],
          "name": "stdout"
        }
      ]
    },
    {
      "cell_type": "code",
      "metadata": {
        "id": "nkGY1tolLEtu",
        "colab_type": "code",
        "colab": {
          "base_uri": "https://localhost:8080/",
          "height": 1000
        },
        "outputId": "380cbaee-d5f0-4ddb-a293-fe2d2f501bae"
      },
      "source": [
        "model.compile(optimizer='SGD',  loss='sparse_categorical_crossentropy', metrics=['mse','accuracy'])\n",
        "\n",
        "Trainer = model.fit(x=train_images, y=train_labels, epochs=30, validation_data=[test_images, test_labels])"
      ],
      "execution_count": 12,
      "outputs": [
        {
          "output_type": "stream",
          "text": [
            "Train on 50000 samples, validate on 10000 samples\n",
            "Epoch 1/30\n",
            "50000/50000 [==============================] - 84s 2ms/sample - loss: 2.0885 - mean_squared_error: 27.6139 - acc: 0.2246 - val_loss: 1.8674 - val_mean_squared_error: 27.6164 - val_acc: 0.3371\n",
            "Epoch 2/30\n",
            "50000/50000 [==============================] - 82s 2ms/sample - loss: 1.7615 - mean_squared_error: 27.6219 - acc: 0.3617 - val_loss: 1.7101 - val_mean_squared_error: 27.6263 - val_acc: 0.3936\n",
            "Epoch 3/30\n",
            "50000/50000 [==============================] - 83s 2ms/sample - loss: 1.5466 - mean_squared_error: 27.6289 - acc: 0.4387 - val_loss: 1.4423 - val_mean_squared_error: 27.6300 - val_acc: 0.4855\n",
            "Epoch 4/30\n",
            "50000/50000 [==============================] - 84s 2ms/sample - loss: 1.4281 - mean_squared_error: 27.6333 - acc: 0.4852 - val_loss: 1.3231 - val_mean_squared_error: 27.6363 - val_acc: 0.5293\n",
            "Epoch 5/30\n",
            "50000/50000 [==============================] - 83s 2ms/sample - loss: 1.3426 - mean_squared_error: 27.6366 - acc: 0.5177 - val_loss: 1.3826 - val_mean_squared_error: 27.6425 - val_acc: 0.5014\n",
            "Epoch 6/30\n",
            "50000/50000 [==============================] - 82s 2ms/sample - loss: 1.2729 - mean_squared_error: 27.6394 - acc: 0.5479 - val_loss: 1.2141 - val_mean_squared_error: 27.6427 - val_acc: 0.5626\n",
            "Epoch 7/30\n",
            "50000/50000 [==============================] - 82s 2ms/sample - loss: 1.2177 - mean_squared_error: 27.6418 - acc: 0.5696 - val_loss: 1.2692 - val_mean_squared_error: 27.6442 - val_acc: 0.5526\n",
            "Epoch 8/30\n",
            "50000/50000 [==============================] - 82s 2ms/sample - loss: 1.1628 - mean_squared_error: 27.6440 - acc: 0.5898 - val_loss: 1.1229 - val_mean_squared_error: 27.6434 - val_acc: 0.6033\n",
            "Epoch 9/30\n",
            "50000/50000 [==============================] - 82s 2ms/sample - loss: 1.1112 - mean_squared_error: 27.6461 - acc: 0.6087 - val_loss: 1.0841 - val_mean_squared_error: 27.6450 - val_acc: 0.6148\n",
            "Epoch 10/30\n",
            "50000/50000 [==============================] - 82s 2ms/sample - loss: 1.0687 - mean_squared_error: 27.6479 - acc: 0.6230 - val_loss: 1.0705 - val_mean_squared_error: 27.6481 - val_acc: 0.6268\n",
            "Epoch 11/30\n",
            "50000/50000 [==============================] - 83s 2ms/sample - loss: 1.0309 - mean_squared_error: 27.6496 - acc: 0.6363 - val_loss: 0.9997 - val_mean_squared_error: 27.6498 - val_acc: 0.6490\n",
            "Epoch 12/30\n",
            "50000/50000 [==============================] - 83s 2ms/sample - loss: 0.9956 - mean_squared_error: 27.6510 - acc: 0.6476 - val_loss: 1.0062 - val_mean_squared_error: 27.6512 - val_acc: 0.6423\n",
            "Epoch 13/30\n",
            "50000/50000 [==============================] - 83s 2ms/sample - loss: 0.9599 - mean_squared_error: 27.6526 - acc: 0.6638 - val_loss: 1.1014 - val_mean_squared_error: 27.6547 - val_acc: 0.6108\n",
            "Epoch 14/30\n",
            "50000/50000 [==============================] - 82s 2ms/sample - loss: 0.9246 - mean_squared_error: 27.6541 - acc: 0.6767 - val_loss: 0.9923 - val_mean_squared_error: 27.6537 - val_acc: 0.6525\n",
            "Epoch 15/30\n",
            "50000/50000 [==============================] - 81s 2ms/sample - loss: 0.8930 - mean_squared_error: 27.6554 - acc: 0.6881 - val_loss: 0.9722 - val_mean_squared_error: 27.6553 - val_acc: 0.6509\n",
            "Epoch 16/30\n",
            "50000/50000 [==============================] - 80s 2ms/sample - loss: 0.8644 - mean_squared_error: 27.6567 - acc: 0.6975 - val_loss: 0.9055 - val_mean_squared_error: 27.6565 - val_acc: 0.6797\n",
            "Epoch 17/30\n",
            "50000/50000 [==============================] - 82s 2ms/sample - loss: 0.8319 - mean_squared_error: 27.6580 - acc: 0.7100 - val_loss: 0.8758 - val_mean_squared_error: 27.6592 - val_acc: 0.6942\n",
            "Epoch 18/30\n",
            "50000/50000 [==============================] - 81s 2ms/sample - loss: 0.8047 - mean_squared_error: 27.6592 - acc: 0.7164 - val_loss: 0.9007 - val_mean_squared_error: 27.6597 - val_acc: 0.6861\n",
            "Epoch 19/30\n",
            "50000/50000 [==============================] - 82s 2ms/sample - loss: 0.7796 - mean_squared_error: 27.6603 - acc: 0.7277 - val_loss: 0.8983 - val_mean_squared_error: 27.6606 - val_acc: 0.6900\n",
            "Epoch 20/30\n",
            "50000/50000 [==============================] - 81s 2ms/sample - loss: 0.7501 - mean_squared_error: 27.6614 - acc: 0.7386 - val_loss: 0.9375 - val_mean_squared_error: 27.6605 - val_acc: 0.6811\n",
            "Epoch 21/30\n",
            "50000/50000 [==============================] - 82s 2ms/sample - loss: 0.7284 - mean_squared_error: 27.6626 - acc: 0.7464 - val_loss: 0.8573 - val_mean_squared_error: 27.6613 - val_acc: 0.6985\n",
            "Epoch 22/30\n",
            "50000/50000 [==============================] - 80s 2ms/sample - loss: 0.7010 - mean_squared_error: 27.6637 - acc: 0.7529 - val_loss: 0.8639 - val_mean_squared_error: 27.6600 - val_acc: 0.6985\n",
            "Epoch 23/30\n",
            "50000/50000 [==============================] - 80s 2ms/sample - loss: 0.6775 - mean_squared_error: 27.6647 - acc: 0.7631 - val_loss: 0.8505 - val_mean_squared_error: 27.6630 - val_acc: 0.7073\n",
            "Epoch 24/30\n",
            "50000/50000 [==============================] - 79s 2ms/sample - loss: 0.6529 - mean_squared_error: 27.6658 - acc: 0.7698 - val_loss: 0.8434 - val_mean_squared_error: 27.6651 - val_acc: 0.7166\n",
            "Epoch 25/30\n",
            "50000/50000 [==============================] - 80s 2ms/sample - loss: 0.6313 - mean_squared_error: 27.6667 - acc: 0.7792 - val_loss: 0.8067 - val_mean_squared_error: 27.6664 - val_acc: 0.7246\n",
            "Epoch 26/30\n",
            "50000/50000 [==============================] - 80s 2ms/sample - loss: 0.6068 - mean_squared_error: 27.6678 - acc: 0.7861 - val_loss: 0.7973 - val_mean_squared_error: 27.6670 - val_acc: 0.7299\n",
            "Epoch 27/30\n",
            "50000/50000 [==============================] - 80s 2ms/sample - loss: 0.5858 - mean_squared_error: 27.6686 - acc: 0.7923 - val_loss: 0.8131 - val_mean_squared_error: 27.6667 - val_acc: 0.7261\n",
            "Epoch 28/30\n",
            "50000/50000 [==============================] - 82s 2ms/sample - loss: 0.5632 - mean_squared_error: 27.6697 - acc: 0.8019 - val_loss: 0.8523 - val_mean_squared_error: 27.6670 - val_acc: 0.7115\n",
            "Epoch 29/30\n",
            "50000/50000 [==============================] - 82s 2ms/sample - loss: 0.5444 - mean_squared_error: 27.6706 - acc: 0.8066 - val_loss: 0.8190 - val_mean_squared_error: 27.6680 - val_acc: 0.7275\n",
            "Epoch 30/30\n",
            "50000/50000 [==============================] - 81s 2ms/sample - loss: 0.5205 - mean_squared_error: 27.6716 - acc: 0.8175 - val_loss: 0.8457 - val_mean_squared_error: 27.6705 - val_acc: 0.7250\n"
          ],
          "name": "stdout"
        }
      ]
    },
    {
      "cell_type": "code",
      "metadata": {
        "id": "ZXI-aNYVMkFE",
        "colab_type": "code",
        "colab": {
          "base_uri": "https://localhost:8080/",
          "height": 301
        },
        "outputId": "30f75dcf-fd44-4a23-b63e-b39a8b2b6cd5"
      },
      "source": [
        "plt.plot(Trainer.history['mean_squared_error'])\n",
        "plt.ylabel('Metrics')\n",
        "plt.xlabel(\"Epoch\")"
      ],
      "execution_count": 17,
      "outputs": [
        {
          "output_type": "execute_result",
          "data": {
            "text/plain": [
              "Text(0.5, 0, 'Epoch')"
            ]
          },
          "metadata": {
            "tags": []
          },
          "execution_count": 17
        },
        {
          "output_type": "display_data",
          "data": {
            "image/png": "[encoded data removed]",
            "text/plain": [
              "<Figure size 432x288 with 1 Axes>"
            ]
          },
          "metadata": {
            "tags": []
          }
        }
      ]
    },
    {
      "cell_type": "code",
      "metadata": {
        "id": "ClQgokkeXR-S",
        "colab_type": "code",
        "colab": {
          "base_uri": "https://localhost:8080/",
          "height": 301
        },
        "outputId": "5a4b511a-4833-4158-8233-d0ef572f671e"
      },
      "source": [
        "plt.plot(Trainer.history['acc'], scalex=True, scaley=True)\n",
        "plt.ylabel('Metrics')\n",
        "plt.xlabel(\"Epoch\")"
      ],
      "execution_count": 21,
      "outputs": [
        {
          "output_type": "execute_result",
          "data": {
            "text/plain": [
              "Text(0.5, 0, 'Epoch')"
            ]
          },
          "metadata": {
            "tags": []
          },
          "execution_count": 21
        },
        {
          "output_type": "display_data",
          "data": {
            "image/png": "[encoded data removed]",
            "text/plain": [
              "<Figure size 432x288 with 1 Axes>"
            ]
          },
          "metadata": {
            "tags": []
          }
        }
      ]
    },
    {
      "cell_type": "code",
      "metadata": {
        "id": "Nex0clS5XsI6",
        "colab_type": "code",
        "colab": {
          "base_uri": "https://localhost:8080/",
          "height": 553
        },
        "outputId": "606352da-44f0-4301-d4c7-201ada7770eb"
      },
      "source": [
        "Trainer.epoch"
      ],
      "execution_count": 23,
      "outputs": [
        {
          "output_type": "execute_result",
          "data": {
            "text/plain": [
              "[0,\n",
              " 1,\n",
              " 2,\n",
              " 3,\n",
              " 4,\n",
              " 5,\n",
              " 6,\n",
              " 7,\n",
              " 8,\n",
              " 9,\n",
              " 10,\n",
              " 11,\n",
              " 12,\n",
              " 13,\n",
              " 14,\n",
              " 15,\n",
              " 16,\n",
              " 17,\n",
              " 18,\n",
              " 19,\n",
              " 20,\n",
              " 21,\n",
              " 22,\n",
              " 23,\n",
              " 24,\n",
              " 25,\n",
              " 26,\n",
              " 27,\n",
              " 28,\n",
              " 29]"
            ]
          },
          "metadata": {
            "tags": []
          },
          "execution_count": 23
        }
      ]
    },
    {
      "cell_type": "code",
      "metadata": {
        "id": "CVL5Id4-YUj6",
        "colab_type": "code",
        "colab": {}
      },
      "source": [
        "m = Trainer.history['val_acc']\n",
        "n = Trainer.history['acc']"
      ],
      "execution_count": 0,
      "outputs": []
    },
    {
      "cell_type": "code",
      "metadata": {
        "id": "78H8IXaIYZji",
        "colab_type": "code",
        "colab": {
          "base_uri": "https://localhost:8080/",
          "height": 287
        },
        "outputId": "7a1c699f-cfec-47ad-a6f4-01ed03d66392"
      },
      "source": [
        "plt.plot(m,n, 'r*')"
      ],
      "execution_count": 38,
      "outputs": [
        {
          "output_type": "execute_result",
          "data": {
            "text/plain": [
              "[<matplotlib.lines.Line2D at 0x7f92382b2390>]"
            ]
          },
          "metadata": {
            "tags": []
          },
          "execution_count": 38
        },
        {
          "output_type": "display_data",
          "data": {
            "image/png": "[encoded data removed]",
            "text/plain": [
              "<Figure size 432x288 with 1 Axes>"
            ]
          },
          "metadata": {
            "tags": []
          }
        }
      ]
    },
    {
      "cell_type": "code",
      "metadata": {
        "id": "IUXnU9icZZ1y",
        "colab_type": "code",
        "colab": {}
      },
      "source": [
        ""
      ],
      "execution_count": 0,
      "outputs": []
    }
  ]
}